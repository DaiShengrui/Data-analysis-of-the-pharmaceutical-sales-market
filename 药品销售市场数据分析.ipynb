{
 "cells": [
  {
   "cell_type": "markdown",
   "metadata": {
    "id": "BB40710F9A2D431FB29FF94B3AA22CEA",
    "jupyter": {},
    "notebookId": "66a74c11ffdd4878995176ec",
    "runtime": {
     "execution_status": null,
     "is_visible": false,
     "status": "default"
    },
    "scrolled": false,
    "slideshow": {
     "slide_type": "slide"
    },
    "tags": []
   },
   "source": [
    "# 药品销售市场数据分析  \n",
    "\n",
    "### 数据说明  \n",
    "\n",
    "数据集为 [北京朝阳某医院2018年的药品销售数据](https://www.heywhale.com/mw/dataset/5e4a964580da780037bc664e)，其中包含7个字段信息：  \n",
    "1、购药时间  \n",
    "2、社保卡号  \n",
    "3、商品编码  \n",
    "4、商品名称  \n",
    "5、销售数量  \n",
    "6、应收金额  \n",
    "7、实收金额  \n"
   ]
  },
  {
   "cell_type": "markdown",
   "metadata": {
    "id": "BE0A296BA375444EA922F6AAED686988",
    "jupyter": {},
    "notebookId": "66a74c11ffdd4878995176ec",
    "runtime": {
     "execution_status": null,
     "is_visible": false,
     "status": "default"
    },
    "scrolled": false,
    "slideshow": {
     "slide_type": "slide"
    },
    "tags": []
   },
   "source": [
    "**销售数据分析**主要是指整体上销售的情况：  \n",
    "1. 卖的最好/最差的药品是？  \n",
    "2. 整体销售额的时间变化趋势？  \n",
    "3. 各月份卖的最好的药品是那些  \n",
    "\n",
    "在进行以上分析时，需要自行判断评定指标，如在分析**卖的最好的药品**时，如何评定**最好**这一概念，是销售额最高即最好还是利润最大为最好。  \n",
    "\n",
    "进行整体的分析之后我们可以进行**相关性分析**。  \n",
    "\n",
    "在本例中，**相关性分析**是指分析哪些特征影响着药品的销售。结合数据集所提供的字段，可以进行以下的分析：  \n",
    "\n",
    "1. 购药时间是否影响药品的销售情况（这里的时间可以指**工作日与否**或是**某个月份**）  \n",
    "2. 人们是否会更愿意购买可使用社保减免的药品？  \n",
    "\n",
    "通过上述的分析，我们可以确定影响药品销售的因素有哪些，为医院的下一次药品采购提供合理的采购建议！"
   ]
  },
  {
   "cell_type": "markdown",
   "metadata": {
    "id": "FC50AE8E4702494FA7BC689E8ADB4CAB",
    "jupyter": {},
    "notebookId": "66a74c11ffdd4878995176ec",
    "runtime": {
     "execution_status": null,
     "is_visible": false,
     "status": "default"
    },
    "scrolled": false,
    "slideshow": {
     "slide_type": "slide"
    },
    "tags": []
   },
   "source": [
    "# 1、Python库导入与数据读取  "
   ]
  },
  {
   "cell_type": "code",
   "execution_count": 1,
   "metadata": {
    "collapsed": false,
    "id": "6A3EC9C23DB647109AA105561C9DD3BB",
    "jupyter": {
     "outputs_hidden": false
    },
    "notebookId": "66a74c11ffdd4878995176ec",
    "slideshow": {
     "slide_type": "slide"
    },
    "tags": []
   },
   "outputs": [],
   "source": [
    "import pandas as pd\n",
    "import numpy as np\n",
    "import seaborn as sns\n",
    "import matplotlib.pyplot as plt\n",
    "\n",
    "# 记得补充你需要用到的Python包\n",
    "\n",
    "df = pd.read_excel(\"/home/mw/input/medical9242/朝阳医院2018年销售数据.xlsx\")"
   ]
  },
  {
   "cell_type": "markdown",
   "metadata": {
    "id": "9799B29216A345CC8F745193C20337C2",
    "jupyter": {},
    "notebookId": "66a74c11ffdd4878995176ec",
    "runtime": {
     "execution_status": null,
     "is_visible": false,
     "status": "default"
    },
    "scrolled": false,
    "slideshow": {
     "slide_type": "slide"
    },
    "tags": []
   },
   "source": [
    "# 2、数据预览与预处理"
   ]
  },
  {
   "cell_type": "code",
   "execution_count": 2,
   "metadata": {
    "collapsed": false,
    "id": "2FB259A50D9B46F3B02479DE2A4C1988",
    "jupyter": {
     "outputs_hidden": false
    },
    "notebookId": "66a74c11ffdd4878995176ec",
    "slideshow": {
     "slide_type": "slide"
    },
    "tags": []
   },
   "outputs": [
    {
     "data": {
      "text/plain": [
       "(6578, 7)"
      ]
     },
     "execution_count": 2,
     "metadata": {},
     "output_type": "execute_result"
    }
   ],
   "source": [
    "# 查看数据维度\n",
    "df.shape"
   ]
  },
  {
   "cell_type": "code",
   "execution_count": 3,
   "metadata": {
    "collapsed": false,
    "id": "BCB423DD88F34D27A918A1997F9397EA",
    "jupyter": {
     "outputs_hidden": false
    },
    "notebookId": "66a74c11ffdd4878995176ec",
    "slideshow": {
     "slide_type": "slide"
    },
    "tags": []
   },
   "outputs": [
    {
     "name": "stdout",
     "output_type": "stream",
     "text": [
      "<class 'pandas.core.frame.DataFrame'>\n",
      "RangeIndex: 6578 entries, 0 to 6577\n",
      "Data columns (total 7 columns):\n",
      "购药时间    6576 non-null object\n",
      "社保卡号    6576 non-null float64\n",
      "商品编码    6577 non-null float64\n",
      "商品名称    6577 non-null object\n",
      "销售数量    6577 non-null float64\n",
      "应收金额    6577 non-null float64\n",
      "实收金额    6577 non-null float64\n",
      "dtypes: float64(5), object(2)\n",
      "memory usage: 359.8+ KB\n"
     ]
    }
   ],
   "source": [
    "# 查看数据信息  \n",
    "df.info()"
   ]
  },
  {
   "cell_type": "code",
   "execution_count": 4,
   "metadata": {
    "collapsed": false,
    "id": "707305EF5E1744AD9060EB193856BF94",
    "jupyter": {
     "outputs_hidden": false
    },
    "notebookId": "66a74c11ffdd4878995176ec",
    "slideshow": {
     "slide_type": "slide"
    },
    "tags": []
   },
   "outputs": [
    {
     "data": {
      "text/plain": [
       "购药时间    2\n",
       "社保卡号    2\n",
       "商品编码    1\n",
       "商品名称    1\n",
       "销售数量    1\n",
       "应收金额    1\n",
       "实收金额    1\n",
       "dtype: int64"
      ]
     },
     "execution_count": 4,
     "metadata": {},
     "output_type": "execute_result"
    }
   ],
   "source": [
    "# 查看各列的缺失值\n",
    "df.isna().sum()"
   ]
  },
  {
   "cell_type": "code",
   "execution_count": 5,
   "metadata": {
    "collapsed": false,
    "id": "866629F6405245E0A66BC65EAE46B1B0",
    "jupyter": {
     "outputs_hidden": false
    },
    "notebookId": "66a74c11ffdd4878995176ec",
    "slideshow": {
     "slide_type": "slide"
    },
    "tags": []
   },
   "outputs": [],
   "source": [
    "# 缺失值处理\n",
    "# 因为缺失值比较少，所以直接删除\n",
    "df.dropna(axis=0,inplace=True) "
   ]
  },
  {
   "cell_type": "code",
   "execution_count": 6,
   "metadata": {
    "collapsed": false,
    "id": "FB6CD26C68AD4E1A87DE4EB031CA2AD5",
    "jupyter": {
     "outputs_hidden": false
    },
    "notebookId": "66a74c11ffdd4878995176ec",
    "slideshow": {
     "slide_type": "slide"
    },
    "tags": []
   },
   "outputs": [],
   "source": [
    "# 查看重复值数量\n",
    "df.duplicated().sum()\n",
    "\n",
    "# 删除重复值\n",
    "df.drop_duplicates(inplace=True)"
   ]
  },
  {
   "cell_type": "code",
   "execution_count": 7,
   "metadata": {
    "collapsed": false,
    "id": "581FDEA986CB4F5FB5D85116D78131F3",
    "jupyter": {
     "outputs_hidden": false
    },
    "notebookId": "66a74c11ffdd4878995176ec",
    "slideshow": {
     "slide_type": "slide"
    },
    "tags": []
   },
   "outputs": [],
   "source": [
    "#通过上述的数据探索，发现“购药时间”、“社保卡号”、“商品编码”、“销售数量”的格式需要改变\n",
    "df[\"购药日期\"], df[\"星期\"] = df[\"购药时间\"].str.split(' ', 1).str\n",
    "df[\"购药日期\"] = df[\"购药日期\"].replace(\"2018-02-29\", \"2018-02-28\") #因为2018-2-29不存在，所以把它替换成2018-02-28\n",
    "df[\"购药日期\"] = pd.to_datetime(df[\"购药日期\"])\n",
    "df.drop(columns=[\"购药时间\"], inplace=True)\n",
    "df[\"社保卡号\"] = df[\"社保卡号\"].astype(str)\n",
    "df[\"商品编码\"] = df[\"商品编码\"].astype(str)\n",
    "df[\"社保卡号\"] = df[\"社保卡号\"].str.split('.').str[0]\n",
    "df[\"商品编码\"] = df[\"商品编码\"].str.split('.').str[0]\n",
    "df[\"销售数量\"] = df[\"销售数量\"].astype(int)"
   ]
  },
  {
   "cell_type": "markdown",
   "metadata": {},
   "source": [
    "# 3、数据分析"
   ]
  },
  {
   "cell_type": "code",
   "execution_count": 8,
   "metadata": {
    "collapsed": false,
    "id": "128A92B0F88D4546A9266985BF217B8A",
    "jupyter": {
     "outputs_hidden": false
    },
    "notebookId": "66a74c11ffdd4878995176ec",
    "slideshow": {
     "slide_type": "slide"
    },
    "tags": []
   },
   "outputs": [
    {
     "data": {
      "text/html": [
       "<div>\n",
       "<style scoped>\n",
       "    .dataframe tbody tr th:only-of-type {\n",
       "        vertical-align: middle;\n",
       "    }\n",
       "\n",
       "    .dataframe tbody tr th {\n",
       "        vertical-align: top;\n",
       "    }\n",
       "\n",
       "    .dataframe thead th {\n",
       "        text-align: right;\n",
       "    }\n",
       "</style>\n",
       "<table border=\"1\" class=\"dataframe\">\n",
       "  <thead>\n",
       "    <tr style=\"text-align: right;\">\n",
       "      <th></th>\n",
       "      <th>社保卡号</th>\n",
       "      <th>商品编码</th>\n",
       "      <th>商品名称</th>\n",
       "      <th>销售数量</th>\n",
       "      <th>应收金额</th>\n",
       "      <th>实收金额</th>\n",
       "      <th>购药日期</th>\n",
       "      <th>星期</th>\n",
       "    </tr>\n",
       "  </thead>\n",
       "  <tbody>\n",
       "    <tr>\n",
       "      <th>0</th>\n",
       "      <td>1616528</td>\n",
       "      <td>236701</td>\n",
       "      <td>强力VC银翘片</td>\n",
       "      <td>6</td>\n",
       "      <td>82.8</td>\n",
       "      <td>69.00</td>\n",
       "      <td>2018-01-01</td>\n",
       "      <td>星期五</td>\n",
       "    </tr>\n",
       "    <tr>\n",
       "      <th>1</th>\n",
       "      <td>1616528</td>\n",
       "      <td>236701</td>\n",
       "      <td>清热解毒口服液</td>\n",
       "      <td>1</td>\n",
       "      <td>28.0</td>\n",
       "      <td>24.64</td>\n",
       "      <td>2018-01-02</td>\n",
       "      <td>星期六</td>\n",
       "    </tr>\n",
       "    <tr>\n",
       "      <th>2</th>\n",
       "      <td>12602828</td>\n",
       "      <td>236701</td>\n",
       "      <td>感康</td>\n",
       "      <td>2</td>\n",
       "      <td>16.8</td>\n",
       "      <td>15.00</td>\n",
       "      <td>2018-01-06</td>\n",
       "      <td>星期三</td>\n",
       "    </tr>\n",
       "    <tr>\n",
       "      <th>3</th>\n",
       "      <td>10070343428</td>\n",
       "      <td>236701</td>\n",
       "      <td>三九感冒灵</td>\n",
       "      <td>1</td>\n",
       "      <td>28.0</td>\n",
       "      <td>28.00</td>\n",
       "      <td>2018-01-11</td>\n",
       "      <td>星期一</td>\n",
       "    </tr>\n",
       "    <tr>\n",
       "      <th>4</th>\n",
       "      <td>101554328</td>\n",
       "      <td>236701</td>\n",
       "      <td>三九感冒灵</td>\n",
       "      <td>8</td>\n",
       "      <td>224.0</td>\n",
       "      <td>208.00</td>\n",
       "      <td>2018-01-15</td>\n",
       "      <td>星期五</td>\n",
       "    </tr>\n",
       "  </tbody>\n",
       "</table>\n",
       "</div>"
      ],
      "text/plain": [
       "          社保卡号    商品编码     商品名称  销售数量   应收金额    实收金额       购药日期   星期\n",
       "0      1616528  236701  强力VC银翘片     6   82.8   69.00 2018-01-01  星期五\n",
       "1      1616528  236701  清热解毒口服液     1   28.0   24.64 2018-01-02  星期六\n",
       "2     12602828  236701       感康     2   16.8   15.00 2018-01-06  星期三\n",
       "3  10070343428  236701    三九感冒灵     1   28.0   28.00 2018-01-11  星期一\n",
       "4    101554328  236701    三九感冒灵     8  224.0  208.00 2018-01-15  星期五"
      ]
     },
     "execution_count": 8,
     "metadata": {},
     "output_type": "execute_result"
    }
   ],
   "source": [
    "#回顾下数据集\n",
    "df.head()"
   ]
  },
  {
   "cell_type": "markdown",
   "metadata": {
    "id": "2E63B9AEE8444A0AB8801365125CEED7",
    "jupyter": {},
    "notebookId": "66a74c11ffdd4878995176ec",
    "runtime": {
     "execution_status": null,
     "is_visible": false,
     "status": "default"
    },
    "scrolled": false,
    "slideshow": {
     "slide_type": "slide"
    },
    "tags": []
   },
   "source": [
    "### 任务1：销售情况最好的药品是？最差的药品是？  \n",
    "\n",
    "提示：通过对药品进行分组聚合统计，在此处我们评定销售情况好的标准是销售数量总和。之后取出前n个药品进行可视化展示"
   ]
  },
  {
   "cell_type": "code",
   "execution_count": 9,
   "metadata": {
    "collapsed": false,
    "id": "ACFCEB1BD08745A189165E88B58879A6",
    "jupyter": {
     "outputs_hidden": false
    },
    "notebookId": "66a74c11ffdd4878995176ec",
    "slideshow": {
     "slide_type": "slide"
    },
    "tags": []
   },
   "outputs": [
    {
     "name": "stdout",
     "output_type": "stream",
     "text": [
      "销售前十的药品及销售数量:\n",
      "                   销售数量\n",
      "商品名称                   \n",
      "苯磺酸氨氯地平片(安内真)      1785\n",
      "开博通                1458\n",
      "酒石酸美托洛尔片(倍他乐克)     1138\n",
      "硝苯地平片(心痛定)          825\n",
      "苯磺酸氨氯地平片(络活喜)       796\n",
      "复方利血平片(复方降压片)       517\n",
      "G琥珀酸美托洛尔缓释片(倍他乐克)   509\n",
      "缬沙坦胶囊(代文)           444\n",
      "非洛地平缓释片(波依定)        375\n",
      "高特灵                 372\n",
      "----------------------------------------------------------------------------------------------------\n",
      "销售倒十的药品及销售数量:\n",
      "                     销售数量\n",
      "商品名称                     \n",
      "G厄贝沙坦分散片(6盒/疗程)        18\n",
      "**阿替洛尔片                17\n",
      "G硝苯地平缓释片(II)(6盒/疗程)    16\n",
      "苯磺酸氨氯地平片(兰迪)           14\n",
      "培哚普利片(雅施达)             10\n",
      "D替格瑞洛片                 10\n",
      "赖诺普利片(信赖安)              5\n",
      "TG盐酸贝那普利片(新亚富舒)         2\n",
      "TG厄贝沙坦片                 2\n",
      "D厄贝沙坦氢氯噻嗪片(倍悦)          2\n"
     ]
    }
   ],
   "source": [
    "grouped_df = df.groupby(\"商品名称\").agg({\"销售数量\": \"sum\"}).sort_values(by=\"销售数量\", ascending=False)\n",
    "top_10_medicines = grouped_df.head(10) #销售前十的药品\n",
    "bottom_10_medicines = grouped_df.tail(10) #销售倒十的药品\n",
    "print(f'销售前十的药品及销售数量:\\n{top_10_medicines}')\n",
    "print('-'*100)\n",
    "print(f'销售倒十的药品及销售数量:\\n{bottom_10_medicines}')"
   ]
  },
  {
   "cell_type": "code",
   "execution_count": 10,
   "metadata": {
    "collapsed": false,
    "id": "F9479D510971451CA6D4F8383A5A926B",
    "jupyter": {
     "outputs_hidden": false
    },
    "notebookId": "66a74c11ffdd4878995176ec",
    "slideshow": {
     "slide_type": "slide"
    },
    "tags": []
   },
   "outputs": [
    {
     "data": {
      "text/html": [
       "<img src=\"https://cdn.kesci.com/upload/rt/F9479D510971451CA6D4F8383A5A926B/shsf1ju3gl.png\">"
      ],
      "text/plain": [
       "<Figure size 864x576 with 1 Axes>"
      ]
     },
     "metadata": {
      "needs_background": "light"
     },
     "output_type": "display_data"
    }
   ],
   "source": [
    "#绘制销售排名前10的药品条形图\n",
    "plt.figure(figsize=(12, 8))\n",
    "sns.barplot(y=top_10_medicines.index, x=top_10_medicines[\"销售数量\"], palette=\"viridis\")\n",
    "plt.title(\"销售排名前10的药品条形图\")\n",
    "plt.xlabel(\"总销售量\")\n",
    "plt.ylabel(\"药品名称\")\n",
    "plt.show()"
   ]
  },
  {
   "cell_type": "markdown",
   "metadata": {
    "id": "929D192E724148D483EA66CD250244D9",
    "jupyter": {},
    "notebookId": "66a74c11ffdd4878995176ec",
    "runtime": {
     "execution_status": null,
     "is_visible": false,
     "status": "default"
    },
    "scrolled": false,
    "slideshow": {
     "slide_type": "slide"
    },
    "tags": []
   },
   "source": [
    "#### 销售情况最好的药品是：苯磺酸氨氯地平片(安内真)，销售数量：**1785**  \n",
    "##### 销售情况最差的药品是：D厄贝沙坦氢氯噻嗪片(倍悦)、TG厄贝沙坦片、TG盐酸贝那普利片(新亚富舒)，销售数量：2"
   ]
  },
  {
   "cell_type": "markdown",
   "metadata": {
    "id": "ED491C59F13444528B4BCAED29AAFB33",
    "jupyter": {},
    "notebookId": "66a74c11ffdd4878995176ec",
    "runtime": {
     "execution_status": null,
     "is_visible": false,
     "status": "default"
    },
    "scrolled": false,
    "slideshow": {
     "slide_type": "slide"
    },
    "tags": []
   },
   "source": [
    "### 任务2：整体销售额的时间变化趋势  \n",
    "\n",
    "提示：  \n",
    "\n",
    "数据集中存在时间数据，但是不够简洁，所以需要先对时间数据进行处理：  \n",
    "```\n",
    "df[\"购药时间_月\"] = df[\"购药时间\"].map(lambda x:x.split(\" \")[0].split(\"-\"[1])  ##购药日期所属月份  \n",
    "df[\"购药时间_星期\"] = df[\"购药时间\"].map(lambda x:x.split(\" \")[1])  ##购药当天是星期几？  \n",
    "```\n",
    "\n",
    "对时间数据处理完成之后，就可以进行时间维度上的销售情况分析，与**任务1**一致，评定指标也选择为销售数量之和。"
   ]
  },
  {
   "cell_type": "code",
   "execution_count": 11,
   "metadata": {
    "collapsed": false,
    "id": "9BCEDD8E513E43C3BECDE10C2B6F9791",
    "jupyter": {
     "outputs_hidden": false
    },
    "notebookId": "66a74c11ffdd4878995176ec",
    "slideshow": {
     "slide_type": "slide"
    },
    "tags": []
   },
   "outputs": [
    {
     "name": "stderr",
     "output_type": "stream",
     "text": [
      "/opt/conda/lib/python3.6/site-packages/pandas/plotting/_converter.py:129: FutureWarning: Using an implicitly registered datetime converter for a matplotlib plotting method. The converter was registered by pandas on import. Future versions of pandas will require you to explicitly register matplotlib converters.\n",
      "\n",
      "To register the converters:\n",
      "\t>>> from pandas.plotting import register_matplotlib_converters\n",
      "\t>>> register_matplotlib_converters()\n",
      "  warnings.warn(msg, FutureWarning)\n"
     ]
    },
    {
     "data": {
      "text/html": [
       "<img src=\"https://cdn.kesci.com/upload/rt/9BCEDD8E513E43C3BECDE10C2B6F9791/shsf1jvkbs.png\">"
      ],
      "text/plain": [
       "<Figure size 1080x504 with 1 Axes>"
      ]
     },
     "metadata": {
      "needs_background": "light"
     },
     "output_type": "display_data"
    }
   ],
   "source": [
    "#销售数量变化趋势\n",
    "time_series_df = df.groupby(\"购药日期\").agg({\"销售数量\": \"sum\"}).reset_index()\n",
    "plt.figure(figsize=(15, 7))\n",
    "sns.lineplot(data=time_series_df, x=\"购药日期\", y=\"销售数量\", color=\"royalblue\")\n",
    "plt.title(\"总销售数量变化趋势\")\n",
    "plt.xlabel(\"日期\")\n",
    "plt.ylabel(\"总销售量\")\n",
    "plt.tight_layout()\n",
    "plt.show()"
   ]
  },
  {
   "cell_type": "code",
   "execution_count": 12,
   "metadata": {
    "collapsed": false,
    "id": "8E02C7BD83D34132AC3B438C898CCE75",
    "jupyter": {
     "outputs_hidden": false
    },
    "notebookId": "66a74c11ffdd4878995176ec",
    "slideshow": {
     "slide_type": "slide"
    },
    "tags": []
   },
   "outputs": [
    {
     "data": {
      "text/html": [
       "<img src=\"https://cdn.kesci.com/upload/rt/8E02C7BD83D34132AC3B438C898CCE75/shsf1kfs3p.png\">"
      ],
      "text/plain": [
       "<Figure size 1080x504 with 1 Axes>"
      ]
     },
     "metadata": {
      "needs_background": "light"
     },
     "output_type": "display_data"
    }
   ],
   "source": [
    "#销售额变化趋势\n",
    "time_series_df = df.groupby(\"购药日期\").agg({\"实收金额\": \"sum\"}).reset_index()\n",
    "plt.figure(figsize=(15, 7))\n",
    "sns.lineplot(data=time_series_df, x=\"购药日期\", y=\"实收金额\", color=\"royalblue\")\n",
    "plt.title(\"销售金额变化趋势\")\n",
    "plt.xlabel(\"日期\")\n",
    "plt.ylabel(\"整体销售额\")\n",
    "plt.tight_layout()\n",
    "plt.show()"
   ]
  },
  {
   "cell_type": "markdown",
   "metadata": {
    "id": "751737E8EB804D53A0AD9765F9071052",
    "jupyter": {},
    "notebookId": "66a74c11ffdd4878995176ec",
    "runtime": {
     "execution_status": null,
     "is_visible": false,
     "status": "default"
    },
    "scrolled": false,
    "slideshow": {
     "slide_type": "slide"
    },
    "tags": []
   },
   "source": [
    "### 任务3：各月份卖的最好的药品是哪些？"
   ]
  },
  {
   "cell_type": "code",
   "execution_count": 13,
   "metadata": {
    "collapsed": false,
    "id": "8A06E029FE4242738A384B89BA53168C",
    "jupyter": {
     "outputs_hidden": false
    },
    "notebookId": "66a74c11ffdd4878995176ec",
    "slideshow": {
     "slide_type": "slide"
    },
    "tags": []
   },
   "outputs": [
    {
     "data": {
      "text/html": [
       "<div>\n",
       "<style scoped>\n",
       "    .dataframe tbody tr th:only-of-type {\n",
       "        vertical-align: middle;\n",
       "    }\n",
       "\n",
       "    .dataframe tbody tr th {\n",
       "        vertical-align: top;\n",
       "    }\n",
       "\n",
       "    .dataframe thead th {\n",
       "        text-align: right;\n",
       "    }\n",
       "</style>\n",
       "<table border=\"1\" class=\"dataframe\">\n",
       "  <thead>\n",
       "    <tr style=\"text-align: right;\">\n",
       "      <th></th>\n",
       "      <th>月份</th>\n",
       "      <th>商品名称</th>\n",
       "      <th>销售数量</th>\n",
       "    </tr>\n",
       "  </thead>\n",
       "  <tbody>\n",
       "    <tr>\n",
       "      <th>0</th>\n",
       "      <td>1</td>\n",
       "      <td>开博通</td>\n",
       "      <td>267</td>\n",
       "    </tr>\n",
       "    <tr>\n",
       "      <th>1</th>\n",
       "      <td>2</td>\n",
       "      <td>苯磺酸氨氯地平片(安内真)</td>\n",
       "      <td>193</td>\n",
       "    </tr>\n",
       "    <tr>\n",
       "      <th>2</th>\n",
       "      <td>3</td>\n",
       "      <td>开博通</td>\n",
       "      <td>237</td>\n",
       "    </tr>\n",
       "    <tr>\n",
       "      <th>3</th>\n",
       "      <td>4</td>\n",
       "      <td>苯磺酸氨氯地平片(安内真)</td>\n",
       "      <td>582</td>\n",
       "    </tr>\n",
       "    <tr>\n",
       "      <th>4</th>\n",
       "      <td>5</td>\n",
       "      <td>开博通</td>\n",
       "      <td>261</td>\n",
       "    </tr>\n",
       "    <tr>\n",
       "      <th>5</th>\n",
       "      <td>6</td>\n",
       "      <td>苯磺酸氨氯地平片(安内真)</td>\n",
       "      <td>219</td>\n",
       "    </tr>\n",
       "    <tr>\n",
       "      <th>6</th>\n",
       "      <td>7</td>\n",
       "      <td>苯磺酸氨氯地平片(安内真)</td>\n",
       "      <td>131</td>\n",
       "    </tr>\n",
       "  </tbody>\n",
       "</table>\n",
       "</div>"
      ],
      "text/plain": [
       "   月份           商品名称  销售数量\n",
       "0   1            开博通   267\n",
       "1   2  苯磺酸氨氯地平片(安内真)   193\n",
       "2   3            开博通   237\n",
       "3   4  苯磺酸氨氯地平片(安内真)   582\n",
       "4   5            开博通   261\n",
       "5   6  苯磺酸氨氯地平片(安内真)   219\n",
       "6   7  苯磺酸氨氯地平片(安内真)   131"
      ]
     },
     "execution_count": 13,
     "metadata": {},
     "output_type": "execute_result"
    }
   ],
   "source": [
    "#提取月份\n",
    "df[\"月份\"] = df[\"购药日期\"].dt.month\n",
    "monthly_sales = df.groupby([\"月份\", \"商品名称\"]).agg({\"销售数量\": \"sum\"})\n",
    "top_medicines_by_month = monthly_sales.groupby(\"月份\")[\"销售数量\"].idxmax()\n",
    "top_medicines_details = monthly_sales.loc[top_medicines_by_month].reset_index()\n",
    "top_medicines_details"
   ]
  },
  {
   "cell_type": "markdown",
   "metadata": {
    "id": "63E3BFAB61224BF0950C05A94A8363B8",
    "jupyter": {},
    "notebookId": "66a74c11ffdd4878995176ec",
    "runtime": {
     "execution_status": null,
     "is_visible": false,
     "status": "default"
    },
    "scrolled": false,
    "slideshow": {
     "slide_type": "slide"
    },
    "tags": []
   },
   "source": [
    "### 任务4：人们是否会更愿意购买可使用社保减免的药品？  \n",
    "\n",
    "提示：  \n",
    "\n",
    "数据集中涉及到社保的只有**社保卡号**的信息，所以我们需要根据**应收金额**与**实收金额**的差异来评定药品是否支持社保减免。  \n",
    "\n",
    "分析思路：  \n",
    "1. 计算应收金额与实收金额的差  \n",
    "2. 根据差值进行评定（差值为0表示应收金额与实收金额一致，不支持社保减免；差值不为0则反之）"
   ]
  },
  {
   "cell_type": "code",
   "execution_count": 14,
   "metadata": {
    "collapsed": false,
    "id": "7629DB9D919B40C9A09A15946F02D1AF",
    "jupyter": {
     "outputs_hidden": false
    },
    "notebookId": "66a74c11ffdd4878995176ec",
    "slideshow": {
     "slide_type": "slide"
    },
    "tags": []
   },
   "outputs": [],
   "source": [
    "#增加一个特征，判断是否使用了医保\n",
    "df[\"是否使用医保\"] = np.where(df[\"应收金额\"] - df[\"实收金额\"] == 0, \"否\", \"是\")"
   ]
  },
  {
   "cell_type": "markdown",
   "metadata": {
    "id": "4F2F4FC613894A3BA405CAFCD7F8AB0C",
    "jupyter": {},
    "notebookId": "66a74c11ffdd4878995176ec",
    "runtime": {
     "execution_status": null,
     "is_visible": false,
     "status": "default"
    },
    "scrolled": false,
    "slideshow": {
     "slide_type": "slide"
    },
    "tags": []
   },
   "source": [
    "**为了判断人们是否会更愿意购买可使用社保减免的药品，按“是否使用医保”特征对数据进行分组，然后计算每组的销售数量总和。这样，我们就可以比较使用医保和不使用医保的药品销售数量，从而判断人们是否更愿意购买可以使用医保减免的药品。**"
   ]
  },
  {
   "cell_type": "code",
   "execution_count": 15,
   "metadata": {
    "collapsed": false,
    "id": "D878818F781941F38ADD785E43325027",
    "jupyter": {
     "outputs_hidden": false
    },
    "notebookId": "66a74c11ffdd4878995176ec",
    "slideshow": {
     "slide_type": "slide"
    },
    "tags": []
   },
   "outputs": [
    {
     "data": {
      "text/html": [
       "<img src=\"https://cdn.kesci.com/upload/rt/D878818F781941F38ADD785E43325027/shsf1kmuh3.png\">"
      ],
      "text/plain": [
       "<Figure size 576x432 with 1 Axes>"
      ]
     },
     "metadata": {
      "needs_background": "light"
     },
     "output_type": "display_data"
    }
   ],
   "source": [
    "medicare_sales = df.groupby(\"是否使用医保\").agg({\"销售数量\": \"sum\"}).reset_index()\n",
    "plt.figure(figsize=(8, 6))\n",
    "sns.barplot(data=medicare_sales, x=\"是否使用医保\", y=\"销售数量\", palette=\"viridis\")\n",
    "plt.title(\"医保使用情况\")\n",
    "plt.xlabel(\"是否使用医保\")\n",
    "plt.ylabel(\"总量\")\n",
    "plt.tight_layout()\n",
    "plt.show()"
   ]
  },
  {
   "cell_type": "markdown",
   "metadata": {
    "id": "6D7DD27133F24B4587B4F57F573D297C",
    "jupyter": {},
    "notebookId": "66a74c11ffdd4878995176ec",
    "runtime": {
     "execution_status": null,
     "is_visible": false,
     "status": "default"
    },
    "scrolled": false,
    "slideshow": {
     "slide_type": "slide"
    },
    "tags": []
   },
   "source": [
    "### 任务5：探究药品的销售数量与时间是否有关"
   ]
  },
  {
   "cell_type": "code",
   "execution_count": 16,
   "metadata": {
    "collapsed": false,
    "id": "921B2C0BA7B04A6A9DF32F633CB063F2",
    "jupyter": {
     "outputs_hidden": false
    },
    "notebookId": "66a74c11ffdd4878995176ec",
    "slideshow": {
     "slide_type": "slide"
    },
    "tags": []
   },
   "outputs": [
    {
     "data": {
      "text/html": [
       "<img src=\"https://cdn.kesci.com/upload/rt/921B2C0BA7B04A6A9DF32F633CB063F2/shsf1lie6x.png\">"
      ],
      "text/plain": [
       "<Figure size 864x432 with 1 Axes>"
      ]
     },
     "metadata": {
      "needs_background": "light"
     },
     "output_type": "display_data"
    }
   ],
   "source": [
    "weekday_ordering = {\n",
    "    '星期一': 1,\n",
    "    '星期二': 2,\n",
    "    '星期三': 3,\n",
    "    '星期四': 4,\n",
    "    '星期五': 5,\n",
    "    '星期六': 6,\n",
    "    '星期日': 7\n",
    "}\n",
    "\n",
    "weekly_sales = df.groupby(\"星期\").agg({\"销售数量\": \"mean\"}).reset_index()\n",
    "weekly_sales[\"weekday_num\"] = weekly_sales[\"星期\"].map(weekday_ordering)\n",
    "weekly_sales = weekly_sales.sort_values(by=\"weekday_num\")\n",
    "\n",
    "# Plotting the average sales quantity for each weekday\n",
    "plt.figure(figsize=(12, 6))\n",
    "sns.barplot(data=weekly_sales, x=\"星期\", y=\"销售数量\", order=weekly_sales[\"星期\"], palette=\"viridis\")\n",
    "plt.title(\"按星期划分的平均销售数量\")\n",
    "plt.xlabel(\"星期\")\n",
    "plt.ylabel(\"平均销售量\")\n",
    "plt.tight_layout()\n",
    "plt.show()"
   ]
  },
  {
   "cell_type": "code",
   "execution_count": 17,
   "metadata": {
    "collapsed": false,
    "id": "5D776279EB754BB6BFBA8A08329015F3",
    "jupyter": {
     "outputs_hidden": false
    },
    "notebookId": "66a74c11ffdd4878995176ec",
    "slideshow": {
     "slide_type": "slide"
    },
    "tags": []
   },
   "outputs": [
    {
     "name": "stdout",
     "output_type": "stream",
     "text": [
      "销售数量与星期之间的相关系数: -0.019199858000298713\n",
      "销售数量与月份之间的相关系数: 0.006682612133274321\n",
      "销售数量与日之间的相关系数: 0.006682612133274321\n"
     ]
    }
   ],
   "source": [
    "#进行Pearson相关分析\n",
    "#销售数量与星期之间的相关系数\n",
    "df[\"星期_数字格式\"] = df[\"星期\"].map(weekday_ordering)\n",
    "correlation = df[[\"星期_数字格式\", \"销售数量\"]].corr().iloc[0, 1]\n",
    "print('销售数量与星期之间的相关系数:',correlation)\n",
    "#销售数量与月份之间的相关系数\n",
    "month_correlation = df[[\"月份\", \"销售数量\"]].corr().iloc[0, 1]\n",
    "print('销售数量与月份之间的相关系数:',month_correlation)\n",
    "df[\"日\"] = df[\"购药日期\"].dt.day\n",
    "day_correlation = df[[\"日\", \"销售数量\"]].corr().iloc[0, 1]\n",
    "print('销售数量与日之间的相关系数:',month_correlation)"
   ]
  },
  {
   "cell_type": "markdown",
   "metadata": {
    "id": "5AFF2179F1634EE8BD33FA0620B5A01C",
    "jupyter": {},
    "notebookId": "66a74c11ffdd4878995176ec",
    "runtime": {
     "execution_status": null,
     "is_visible": false,
     "status": "default"
    },
    "scrolled": false,
    "slideshow": {
     "slide_type": "slide"
    },
    "tags": []
   },
   "source": [
    "**通过上述操作，通过时序图可以看出来，销售数量存在某种周期规律，但是拆分为月、日、周，却发现销售数量与时间是无关的，工作日和休息日的销售数量也是比较接近的，所以判断药品的销售数量与时间无关。**"
   ]
  },
  {
   "cell_type": "markdown",
   "metadata": {
    "id": "A10408DEAF9742AE97CF3E156ECB02D2",
    "jupyter": {},
    "notebookId": "66a74c11ffdd4878995176ec",
    "runtime": {
     "execution_status": null,
     "is_visible": false,
     "status": "default"
    },
    "scrolled": false,
    "slideshow": {
     "slide_type": "slide"
    },
    "tags": []
   },
   "source": [
    "### 任务6：探究药品的销售数量与可否使用社保有关"
   ]
  },
  {
   "cell_type": "code",
   "execution_count": 18,
   "metadata": {
    "collapsed": false,
    "id": "765BF6223F5F46CF8148AFA230AF1E7B",
    "jupyter": {
     "outputs_hidden": false
    },
    "notebookId": "66a74c11ffdd4878995176ec",
    "slideshow": {
     "slide_type": "slide"
    },
    "tags": []
   },
   "outputs": [
    {
     "data": {
      "text/html": [
       "<img src=\"https://cdn.kesci.com/upload/rt/765BF6223F5F46CF8148AFA230AF1E7B/shsf1l8yry.png\">"
      ],
      "text/plain": [
       "<Figure size 576x432 with 1 Axes>"
      ]
     },
     "metadata": {
      "needs_background": "light"
     },
     "output_type": "display_data"
    }
   ],
   "source": [
    "#分组比较\n",
    "medicare_sales_avg = df.groupby(\"是否使用医保\").agg({\"销售数量\": \"mean\"}).reset_index()\n",
    "plt.figure(figsize=(8, 6))\n",
    "sns.barplot(data=medicare_sales_avg, x=\"是否使用医保\", y=\"销售数量\", palette=\"viridis\")\n",
    "plt.title(\"基于医保使用情况的平均销售数量\")\n",
    "plt.xlabel(\"是否使用医保\")\n",
    "plt.ylabel(\"平均销售量\")\n",
    "plt.tight_layout()\n",
    "plt.show()"
   ]
  },
  {
   "cell_type": "code",
   "execution_count": 19,
   "metadata": {
    "collapsed": false,
    "id": "D7300EC6BD624FDA9941D69FFC18326C",
    "jupyter": {
     "outputs_hidden": false
    },
    "notebookId": "66a74c11ffdd4878995176ec",
    "slideshow": {
     "slide_type": "slide"
    },
    "tags": []
   },
   "outputs": [
    {
     "name": "stdout",
     "output_type": "stream",
     "text": [
      "医保使用情况与销售数量的相关系数: -0.03260330021236449\n"
     ]
    }
   ],
   "source": [
    "#Pearson相关分析\n",
    "df[\"是否使用医保_数字格式\"] = df[\"是否使用医保\"].map({\"是\": 1, \"否\": 0})\n",
    "medicare_correlation = df[[\"是否使用医保_数字格式\", \"销售数量\"]].corr().iloc[0, 1]\n",
    "print('医保使用情况与销售数量的相关系数:',medicare_correlation)"
   ]
  },
  {
   "cell_type": "markdown",
   "metadata": {
    "id": "7C105869A5C1424E99FEFF7EB6EF31FB",
    "jupyter": {},
    "notebookId": "66a74c11ffdd4878995176ec",
    "runtime": {
     "execution_status": null,
     "is_visible": false,
     "status": "default"
    },
    "scrolled": false,
    "slideshow": {
     "slide_type": "slide"
    },
    "tags": []
   },
   "source": [
    "**虽然使用医保的销售数量远大于未使用医保的药品，但是通过分组比较，探究平均销售数量，以及Pearson相关分析，得出药品的销售数量与可否使用社保其实是没有关系的。**"
   ]
  },
  {
   "cell_type": "markdown",
   "metadata": {
    "id": "1D6CE8B0C1064218A2CF7289979EB413",
    "jupyter": {},
    "notebookId": "66a74c11ffdd4878995176ec",
    "runtime": {
     "execution_status": null,
     "is_visible": false,
     "status": "default"
    },
    "scrolled": false,
    "slideshow": {
     "slide_type": "slide"
    },
    "tags": []
   },
   "source": [
    "# 4、总结  \n",
    "\n",
    "卖的最好的是：苯磺酸氨氯地平片(安内真)，可以继续采购  \n",
    "卖的最差的是：D厄贝沙坦氢氯噻嗪片(倍悦)、TG厄贝沙坦片、TG盐酸贝那普利片(新亚富舒)，可以放弃采购或减少采购  \n",
    "药品的销售数量与时间无关。  \n",
    "药品的销售数量与可否使用社保无关。"
   ]
  }
 ],
 "metadata": {
  "kernelspec": {
   "display_name": "Python 3 (ipykernel)",
   "language": "python",
   "name": "python3"
  },
  "language_info": {
   "codemirror_mode": {
    "name": "ipython",
    "version": 3
   },
   "file_extension": ".py",
   "mimetype": "text/x-python",
   "name": "python",
   "nbconvert_exporter": "python",
   "pygments_lexer": "ipython3",
   "version": "3.12.4"
  }
 },
 "nbformat": 4,
 "nbformat_minor": 4
}
